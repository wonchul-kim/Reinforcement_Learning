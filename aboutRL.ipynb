{
 "cells": [
  {
   "cell_type": "markdown",
   "metadata": {},
   "source": [
    "#### value func. vs. Q-value func.\n",
    "- value func.: $$v(s) = E[R_{t+1} + \\gamma R_{t+2}] + ... | s_t = s]$$ <br />\n",
    ">Expected rewards that the agent can get in the future based on the current state\n",
    "\n",
    "\n",
    "- Q-value func.: $$q(s, a) = E[R_{t+1} + \\gamma R_{t+2}] + ... | s_t = s, a_t = a]$$<br />\n",
    ">Expected rewards that the agent can get in the future when it does the action($a$) based on the current state \n",
    "\n",
    "** The difference is that Q-value func. considers action the agent will act based on the current state"
   ]
  },
  {
   "cell_type": "markdown",
   "metadata": {},
   "source": [
    "#### Policy based RL vs. Value based RL\n",
    "<img src=\"figs/appr.png\" width=\"550\" height=\"200\">\n",
    "<br />\n",
    "\n",
    "* Policy based RL<br />\n",
    "> approximates the probability of doing the action\n",
    "\n",
    "\n",
    "* Value based RL<br />\n",
    "> approximates the value of Q value function"
   ]
  },
  {
   "cell_type": "markdown",
   "metadata": {},
   "source": [
    "<img src=\"./figs/objFcs.png\">"
   ]
  },
  {
   "cell_type": "code",
   "execution_count": null,
   "metadata": {},
   "outputs": [],
   "source": []
  }
 ],
 "metadata": {
  "kernelspec": {
   "display_name": "Python 3",
   "language": "python",
   "name": "python3"
  },
  "language_info": {
   "codemirror_mode": {
    "name": "ipython",
    "version": 3
   },
   "file_extension": ".py",
   "mimetype": "text/x-python",
   "name": "python",
   "nbconvert_exporter": "python",
   "pygments_lexer": "ipython3",
   "version": "3.6.5"
  }
 },
 "nbformat": 4,
 "nbformat_minor": 2
}
