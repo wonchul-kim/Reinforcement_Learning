{
 "cells": [
  {
   "cell_type": "markdown",
   "metadata": {},
   "source": [
    "## DDPG (Deep Deterministic Policy Gradient)\n",
    "\n",
    "It is one of reinforcement learning algorithms to overcome the limit of DQN which is that DQN only works on <U>discrete/low dimensional</U> action space."
   ]
  },
  {
   "cell_type": "markdown",
   "metadata": {},
   "source": [
    "#### Key points\n",
    "* follows model-free, off-policy, actor-critic aolgirhtm\n",
    "<img src='./figs/ac.png' width=200>\n",
    "* based on deep deterministic policy \n",
    "* applies the breakthroughs of DQN:\n",
    "    * replay buffer (to lower the relation b/t samples)\n",
    "    * target network (to make the update process more stable)"
   ]
  },
  {
   "cell_type": "markdown",
   "metadata": {},
   "source": []
  }
 ],
 "metadata": {
  "kernelspec": {
   "display_name": "Python 3",
   "language": "python",
   "name": "python3"
  },
  "language_info": {
   "codemirror_mode": {
    "name": "ipython",
    "version": 3
   },
   "file_extension": ".py",
   "mimetype": "text/x-python",
   "name": "python",
   "nbconvert_exporter": "python",
   "pygments_lexer": "ipython3",
   "version": "3.6.5"
  }
 },
 "nbformat": 4,
 "nbformat_minor": 2
}
