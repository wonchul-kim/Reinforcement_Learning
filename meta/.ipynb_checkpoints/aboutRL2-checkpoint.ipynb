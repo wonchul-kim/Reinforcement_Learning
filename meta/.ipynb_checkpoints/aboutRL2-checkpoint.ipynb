{
 "cells": [
  {
   "cell_type": "markdown",
   "metadata": {},
   "source": [
    "### Meta Reinforcement Learning ($RL^2$)\n",
    "\n",
    "Reinforcement learning has a limitation of inflexibility once trained, meaning that they can solve a specific problem (formailzed as an MDP). Thus, the learned policy would be usually useless in new problems and the agent has to learn a new policy by being trained in thowe new problem settigs."
   ]
  },
  {
   "cell_type": "markdown",
   "metadata": {},
   "source": [
    "To tackle this problem, Deepmind suggests the method for ***the agent to learn a policy for learning new policies***. Such an agent could be trained to solve not just a single problem, but all similar problems it may encounter in the future as well. This approach to learning policies that learn polices is called Meta Reinforcement Learning (Meta-RL).\n",
    "\n",
    "For Meta-RL, RNN is trained for the agent to learn to exploit the structure of the prolbem dynamically and thus, the agent learn to solve new problems without retraining, simply by adjusting its hidden states. The original work is [Learning to Reinforcement Learn](https://arxiv.org/abs/1611.05763). There is also another paper, [RL2: Fast Reinforcement learning vis Slow Reinforcement Learning](https://arxiv.org/abs/1611.02779). "
   ]
  },
  {
   "cell_type": "markdown",
   "metadata": {},
   "source": [
    "The key factor in Meta-RL is a RNN allowing the agent to learn the meta-policy by althering the hidden states over time given input, rather than traditional backpropagation training process of neural networks to adjust the output over time given input. Or, some other external adjustment intervention can be also added for learning policies in every new problem.   "
   ]
  }
 ],
 "metadata": {
  "kernelspec": {
   "display_name": "Python 3",
   "language": "python",
   "name": "python3"
  },
  "language_info": {
   "codemirror_mode": {
    "name": "ipython",
    "version": 3
   },
   "file_extension": ".py",
   "mimetype": "text/x-python",
   "name": "python",
   "nbconvert_exporter": "python",
   "pygments_lexer": "ipython3",
   "version": "3.6.5"
  }
 },
 "nbformat": 4,
 "nbformat_minor": 2
}
