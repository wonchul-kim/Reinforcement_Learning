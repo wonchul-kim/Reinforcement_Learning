{
 "cells": [
  {
   "cell_type": "markdown",
   "metadata": {},
   "source": [
    "## PPO (Proximal Policy Optimization)"
   ]
  },
  {
   "cell_type": "markdown",
   "metadata": {},
   "source": [
    "##### surrogate function\n",
    "<img src='./figs/surr.png'>\n",
    "\n",
    "* different from normal policy gradient method\n",
    "* same surrogate func. to TRPO\n",
    "* driven by importance sampling\n",
    "\n",
    "\n",
    "* Then, it constrains importance ratio with clip\n",
    "<img src='./figs/ppo2.png'>\n",
    "<img src='./figs/ppo3.png'>\n",
    "<img src='./figs/ppo5.png'>\n",
    "\n",
    "\n",
    "> <U>TRPO</U>\n",
    "<img src='./figs/trpo.png' width='300'>\n",
    "* constrain it by 2nd order gradient\n",
    "\n",
    "<br />\n",
    "\n",
    "* pseudo algorithm\n",
    "\n",
    "<img src='./figs/ppo4.png'>"
   ]
  },
  {
   "cell_type": "markdown",
   "metadata": {},
   "source": [
    "#### Action space: Discontinuous space ------>>> Continuous space\n",
    "<img src='./figs/dis2con.png'>"
   ]
  },
  {
   "cell_type": "code",
   "execution_count": null,
   "metadata": {},
   "outputs": [],
   "source": []
  }
 ],
 "metadata": {
  "kernelspec": {
   "display_name": "Python 3",
   "language": "python",
   "name": "python3"
  },
  "language_info": {
   "codemirror_mode": {
    "name": "ipython",
    "version": 3
   },
   "file_extension": ".py",
   "mimetype": "text/x-python",
   "name": "python",
   "nbconvert_exporter": "python",
   "pygments_lexer": "ipython3",
   "version": "3.6.5"
  }
 },
 "nbformat": 4,
 "nbformat_minor": 2
}
