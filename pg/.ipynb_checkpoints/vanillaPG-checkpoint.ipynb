{
 "cells": [
  {
   "cell_type": "code",
   "execution_count": 6,
   "metadata": {},
   "outputs": [],
   "source": [
    "import tensorflow as tf\n",
    "import numpy as np\n",
    "import gym\n",
    "\n",
    "import matplotlib.pyplot as plt\n",
    "\n",
    "%matplotlib inline"
   ]
  },
  {
   "cell_type": "code",
   "execution_count": 7,
   "metadata": {},
   "outputs": [],
   "source": [
    "env = gym.make('CartPole-v0')"
   ]
  },
  {
   "cell_type": "code",
   "execution_count": 8,
   "metadata": {},
   "outputs": [],
   "source": [
    "action_size = env.action_space.n\n",
    "observation_size = env.observation_space.shape[0]"
   ]
  },
  {
   "cell_type": "code",
   "execution_count": 21,
   "metadata": {},
   "outputs": [],
   "source": [
    "class vanillaPG():\n",
    "    def __init__(self, lr, observation_size, action_size, layers):\n",
    "        self.lr = lr\n",
    "        self.observation_size = observation_size\n",
    "        self.action_size = action_size\n",
    "        self.layers = layers\n",
    "        \n",
    "        self.obs_tfp, self.output, self.chosen_action = self.buildNet()\n",
    "              \n",
    "        self.reward_tfp = tf.placeholder(tf.float32, [None])\n",
    "        self.action_tfp = tf.placeholder(tf.int32, [None])\n",
    "        \n",
    "    def buildNet(self):\n",
    "        obs = tf.placeholder(tf.float32, [None, self.observation_size])\n",
    "        w1 = tf.get_variable('w1', [self.observation_size, self.layers[0]])\n",
    "        b1 = tf.Variable(tf.random_normal([self.layers[0]]))\n",
    "        l1 = tf.nn.relu(tf.matmul(obs, w1) + b1)\n",
    "        \n",
    "        w2 = tf.get_variable('w2', [self.layers[0], self.layers[1]])\n",
    "        b2 = tf.Variable(tf.random_normal([self.layers[1]]))\n",
    "        l2 = tf.nn.relu(tf.matmul(l1, w2) + b2)\n",
    "        \n",
    "        w3 = tf.get_variable('w3', [self.layers[1], self.action_size])\n",
    "        b3 = tf.Variable(tf.random_normal([self.action_size]))\n",
    "        output = tf.nn.softmax(tf.matmul(l2, w3) + b3)\n",
    "        \n",
    "        chosen_action = tf.argmax(output, 1)\n",
    "        \n",
    "        return obs, output, chosen_action\n",
    "        \n",
    "    def train(self):\n",
    "        \n",
    "        indexes = tf.range(0, tf.shape(self.output)[0])*tf.shape(self.output)[1] \\\n",
    "                  + action\n",
    "        responsible_output = tf.gather(tf.reshape(self.output, [-1]), indexes)\n",
    "        loss = -tf.reduce_mean(tf.log(responsible_output)*self.reward_tfp)\n",
    "        \n",
    "        tvars = tf.trainable_variables()\n",
    "        \n",
    "        gradients_holder = []\n",
    "        for idx,var in enumerate(tvars):\n",
    "            placeholder = tf.placeholder(tf.float32,name=str(idx)+'_holder')\n",
    "            self.gradient_holders.append(placeholder)\n",
    "        \n",
    "        gradients = tf.gradients(loss,tvars)\n",
    "        \n",
    "        optimizer = tf.train.AdamOptimizer(learning_rate=lr)\n",
    "        update_batch = optimizer.apply_gradients(zip(gradients_holder,tvars))     \n",
    "    \n"
   ]
  },
  {
   "cell_type": "code",
   "execution_count": 22,
   "metadata": {},
   "outputs": [],
   "source": [
    "tf.reset_default_graph()\n",
    "\n",
    "agent = vanillaPG(1e-2, observation_size, action_size, [32, 32])"
   ]
  },
  {
   "cell_type": "code",
   "execution_count": null,
   "metadata": {},
   "outputs": [],
   "source": []
  }
 ],
 "metadata": {
  "kernelspec": {
   "display_name": "Python 3",
   "language": "python",
   "name": "python3"
  },
  "language_info": {
   "codemirror_mode": {
    "name": "ipython",
    "version": 3
   },
   "file_extension": ".py",
   "mimetype": "text/x-python",
   "name": "python",
   "nbconvert_exporter": "python",
   "pygments_lexer": "ipython3",
   "version": "3.6.5"
  }
 },
 "nbformat": 4,
 "nbformat_minor": 2
}
