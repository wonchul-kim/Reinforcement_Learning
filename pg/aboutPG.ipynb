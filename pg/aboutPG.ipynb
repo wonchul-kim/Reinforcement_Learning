{
 "cells": [
  {
   "cell_type": "markdown",
   "metadata": {},
   "source": [
    "## Policy Gradient Algorithm"
   ]
  },
  {
   "cell_type": "markdown",
   "metadata": {},
   "source": [
    "Typical aspects of a task that makes it an RL problem are the following:\n",
    "\n",
    "- Different actions yield different rewards\n",
    "- Rewards are delayed over time. For example, even if going left in the maze is correct to do, the agent may not know it till later in the maze.\n",
    "- Reward for an action is conditional on the state of the environment. For instace, going left may be ideal at a certain state(position), but not at others."
   ]
  },
  {
   "cell_type": "markdown",
   "metadata": {},
   "source": [
    "#### Two methods\n",
    "1) policy-based: network learns a policy for picking proper actions by adjusting the weights through gradient descent using feedback from the envrionment.\n",
    "\n",
    "2) value-based: instead of learning the optimal an action in a given state, the agent learns to predict how good a given state or actions will be for the agent to be in.\n"
   ]
  },
  {
   "cell_type": "code",
   "execution_count": null,
   "metadata": {},
   "outputs": [],
   "source": []
  }
 ],
 "metadata": {
  "kernelspec": {
   "display_name": "Python 3",
   "language": "python",
   "name": "python3"
  },
  "language_info": {
   "codemirror_mode": {
    "name": "ipython",
    "version": 3
   },
   "file_extension": ".py",
   "mimetype": "text/x-python",
   "name": "python",
   "nbconvert_exporter": "python",
   "pygments_lexer": "ipython3",
   "version": "3.6.5"
  }
 },
 "nbformat": 4,
 "nbformat_minor": 2
}
